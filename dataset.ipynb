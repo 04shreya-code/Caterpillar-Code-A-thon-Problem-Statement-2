{
 "cells": [
  {
   "cell_type": "code",
   "execution_count": 1,
   "metadata": {},
   "outputs": [
    {
     "name": "stdout",
     "output_type": "stream",
     "text": [
      "   Id                  Time              Machine Component  \\\n",
      "0  48  2022-06-03T08:09:29Z          Excavator_1    Engine   \n",
      "1   5  2022-05-12T02:05:42Z  Articulated_Truck_1      Fuel   \n",
      "2  24  2022-05-27T06:25:04Z  Articulated_Truck_1    Engine   \n",
      "3  23  2022-05-12T20:36:47Z     Backhoe_Loader_1     Drive   \n",
      "4  42  2022-06-28T04:06:30Z          Excavator_1    Engine   \n",
      "\n",
      "               Parameter  Value  \n",
      "0            Temparature  104.0  \n",
      "1          Water in Fuel   70.0  \n",
      "2            Temparature  104.0  \n",
      "3  Transmission Pressure  231.0  \n",
      "4           Oil Pressure   39.0  \n"
     ]
    }
   ],
   "source": [
    "import pandas as pd\n",
    "\n",
    "# Load the dataset (replace 'your_dataset.csv' with the actual file path)\n",
    "df = pd.read_csv('Problem Statement 2_ Data set.csv')\n",
    "\n",
    "# Display the first few rows to understand the data\n",
    "print(df.head())\n"
   ]
  },
  {
   "cell_type": "code",
   "execution_count": 4,
   "metadata": {},
   "outputs": [
    {
     "name": "stdout",
     "output_type": "stream",
     "text": [
      "   Id              Machine Component       Parameter   Value  \\\n",
      "0   1  Articulated_Truck_1     Drive   Brake Control     2.0   \n",
      "1   1  Articulated_Truck_1    Engine           Speed  1700.0   \n",
      "2   1  Articulated_Truck_1      Fuel   Water in Fuel    50.0   \n",
      "3   1  Articulated_Truck_1      Misc  System Voltage    12.6   \n",
      "4   1      Asphalt_Paver_1     Drive   Brake Control    10.0   \n",
      "\n",
      "                   Time  \n",
      "0  2022-06-28T01:17:39Z  \n",
      "1  2022-05-12T09:47:44Z  \n",
      "2  2022-06-09T14:04:18Z  \n",
      "3  2022-05-23T10:00:10Z  \n",
      "4  2022-05-06T02:09:45Z  \n"
     ]
    }
   ],
   "source": [
    "# Group data by customer (id), machine, component, and parameter\n",
    "grouped_df = df.groupby(['Id', 'Machine', 'Component', 'Parameter']).agg({\n",
    "    'Value': 'mean',  # Aggregate values (e.g., by taking the mean)\n",
    "    'Time': 'max'     # Keep the most recent date for each group\n",
    "}).reset_index()\n",
    "\n",
    "# Display the grouped data\n",
    "print(grouped_df.head())\n"
   ]
  },
  {
   "cell_type": "code",
   "execution_count": 7,
   "metadata": {},
   "outputs": [
    {
     "name": "stdout",
     "output_type": "stream",
     "text": [
      "     Id                  Time              Machine Component  \\\n",
      "26   33  2022-05-20T02:50:20Z     Backhoe_Loader_1     Drive   \n",
      "33    3  2022-06-06T06:35:59Z     Backhoe_Loader_1     Drive   \n",
      "73   33  2022-06-18T12:26:52Z  Articulated_Truck_1      Misc   \n",
      "161  46  2022-05-28T12:10:01Z              Dozer_1     Drive   \n",
      "213   6  2022-05-04T21:10:32Z              Dozer_1      Misc   \n",
      "215  42  2022-06-30T03:23:08Z          Excavator_1     Drive   \n",
      "263  21  2022-06-24T04:29:18Z     Backhoe_Loader_1      Misc   \n",
      "283  41  2022-05-06T01:09:58Z          Excavator_1      Misc   \n",
      "312  46  2022-06-17T13:33:21Z     Backhoe_Loader_1     Drive   \n",
      "364  34  2022-05-13T07:29:59Z  Articulated_Truck_1      Fuel   \n",
      "381  16  2022-06-16T12:45:16Z     Backhoe_Loader_1     Drive   \n",
      "396  38  2022-05-09T04:20:54Z  Articulated_Truck_1    Engine   \n",
      "398  33  2022-05-21T00:11:51Z     Backhoe_Loader_1      Misc   \n",
      "408   5  2022-05-28T03:30:19Z              Dozer_1     Drive   \n",
      "414  42  2022-05-06T23:38:54Z              Dozer_1      Misc   \n",
      "426  35  2022-05-21T09:27:46Z     Backhoe_Loader_1     Drive   \n",
      "446  14  2022-06-09T19:43:49Z          Excavator_1     Drive   \n",
      "448  46  2022-05-08T11:26:43Z          Excavator_1     Drive   \n",
      "459   6  2022-06-21T17:50:42Z  Articulated_Truck_1    Engine   \n",
      "482  35  2022-06-21T13:10:10Z          Excavator_1     Drive   \n",
      "515  16  2022-06-18T10:52:44Z  Articulated_Truck_1      Fuel   \n",
      "544  41  2022-06-21T09:28:21Z  Articulated_Truck_1      Misc   \n",
      "581  11  2022-06-21T18:05:54Z  Articulated_Truck_1    Engine   \n",
      "597  37  2022-06-16T15:27:30Z          Excavator_1      Misc   \n",
      "614  38  2022-05-25T11:32:37Z  Articulated_Truck_1      Fuel   \n",
      "637  17  2022-06-08T15:27:31Z              Dozer_1      Misc   \n",
      "667  13  2022-06-28T19:01:22Z     Backhoe_Loader_1      Misc   \n",
      "722  21  2022-06-26T15:31:44Z          Excavator_1      Misc   \n",
      "729  33  2022-05-14T09:43:59Z              Dozer_1      Misc   \n",
      "790  22  2022-05-07T11:39:05Z          Excavator_1     Drive   \n",
      "809  12  2022-05-06T03:01:06Z      Asphalt_Paver_1     Drive   \n",
      "819  24  2022-05-08T09:06:59Z      Asphalt_Paver_1     Drive   \n",
      "895   5  2022-05-28T20:01:11Z      Asphalt_Paver_1      Misc   \n",
      "900  29  2022-05-30T10:18:49Z      Asphalt_Paver_1      Misc   \n",
      "950  17  2022-06-14T19:34:37Z      Asphalt_Paver_1      Misc   \n",
      "\n",
      "                   Parameter    Value  Above_Threshold Probability  \n",
      "26              Pedal Sensor     4.76             True         Low  \n",
      "33              Pedal Sensor     4.83             True         Low  \n",
      "73            System Voltage    15.10             True        High  \n",
      "161             Pedal Sensor     4.98             True         Low  \n",
      "213  Exhaust Gas Temparature   368.00             True        High  \n",
      "215             Pedal Sensor     4.77             True         Low  \n",
      "263           System Voltage    15.03             True        High  \n",
      "283           System Voltage    15.15             True        High  \n",
      "312             Pedal Sensor     4.93             True         Low  \n",
      "364                 Pressure    71.00             True         Low  \n",
      "381             Pedal Sensor     4.88             True         Low  \n",
      "396                    Speed  1870.00             True      Medium  \n",
      "398           System Voltage    15.05             True        High  \n",
      "408             Pedal Sensor     4.78             True         Low  \n",
      "414  Exhaust Gas Temparature   366.00             True        High  \n",
      "426             Pedal Sensor     4.99             True         Low  \n",
      "446             Pedal Sensor     4.88             True         Low  \n",
      "448             Pedal Sensor     4.88             True         Low  \n",
      "459             Oil Pressure    67.00             True        High  \n",
      "482             Pedal Sensor     4.83             True         Low  \n",
      "515                 Pressure    67.00             True         Low  \n",
      "544           System Voltage    15.20             True        High  \n",
      "581             Oil Pressure    72.00             True        High  \n",
      "597           System Voltage    15.53             True        High  \n",
      "614                 Pressure    72.00             True         Low  \n",
      "637           System Voltage    15.26             True        High  \n",
      "667           System Voltage    15.82             True        High  \n",
      "722           System Voltage    15.19             True        High  \n",
      "729           System Voltage    15.01             True        High  \n",
      "790             Pedal Sensor     4.82             True         Low  \n",
      "809             Pedal Sensor     4.77             True         Low  \n",
      "819             Pedal Sensor     4.95             True         Low  \n",
      "895           System Voltage    15.42             True        High  \n",
      "900           System Voltage    15.84             True        High  \n",
      "950           System Voltage    15.70             True        High  \n"
     ]
    }
   ],
   "source": [
    "# Thresholds dictionary\n",
    "thresholds = {\n",
    "    \"Oil Pressure\": {\"Low\": 25, \"High\": 65, \"Probability\": \"High\"},\n",
    "    \"Speed\": {\"High\": 1800, \"Probability\": \"Medium\"},\n",
    "    \"Temparature\": {\"High\": 105, \"Probability\": \"High\"},\n",
    "    \"Brake Control\": {\"Low\": 1, \"Probability\": \"Medium\"},\n",
    "    \"Transmission Pressure\": {\"Low\": 200, \"High\": 450, \"Probability\": \"Medium\"},\n",
    "    \"Pedal Sensor\": {\"High\": 4.7, \"Probability\": \"Low\"},\n",
    "    \"Water in Fuel\": {\"High\": 1800, \"Probability\": \"High\"},\n",
    "    \"Level\": {\"Low\": 1, \"Probability\": \"Low\"},\n",
    "    \"Pressure\": {\"Low\": 35, \"High\": 65, \"Probability\": \"Low\"},\n",
    "    \"Temparature\": {\"High\": 400, \"Probability\": \"High\"},\n",
    "    \"System Voltage\": {\"Low\": 12.0, \"High\": 15.0, \"Probability\": \"High\"},\n",
    "    \"Exhaust Gas Temparature\": {\"High\": 365, \"Probability\": \"High\"},\n",
    "    \"Hydraulic Pump Rate\": {\"High\": 125, \"Probability\": \"Medium\"},\n",
    "    \"Air Filter Pressure Drop\": {\"Low\": 20, \"Probability\": \"Medium\"},\n",
    "}\n",
    "\n",
    "# Function to check if value is within thresholds\n",
    "def check_threshold(row):\n",
    "    parameter = row['Parameter']\n",
    "    value = row['Value']\n",
    "    \n",
    "    # Retrieve the relevant threshold for the parameter\n",
    "    if parameter in thresholds:\n",
    "        thresh = thresholds[parameter]\n",
    "        if 'Low' in thresh and value < thresh['Low']:\n",
    "            return True\n",
    "        if 'High' in thresh and value > thresh['High']:\n",
    "            return True\n",
    "    return False\n",
    "\n",
    "# Apply the threshold check to each row\n",
    "df['Above_Threshold'] = df.apply(check_threshold, axis=1)\n",
    "\n",
    "# Add the probability to the dataframe\n",
    "df['Probability'] = df['Parameter'].apply(lambda x: thresholds[x]['Probability'] if x in thresholds else None)\n",
    "\n",
    "# Display rows where the threshold is exceeded\n",
    "exceeded_df = df[df['Above_Threshold']]\n",
    "print(exceeded_df)\n"
   ]
  },
  {
   "cell_type": "code",
   "execution_count": 11,
   "metadata": {},
   "outputs": [
    {
     "ename": "KeyError",
     "evalue": "'Articulated_Truck_1'",
     "output_type": "error",
     "traceback": [
      "\u001b[1;31m---------------------------------------------------------------------------\u001b[0m",
      "\u001b[1;31mKeyError\u001b[0m                                  Traceback (most recent call last)",
      "Cell \u001b[1;32mIn[11], line 11\u001b[0m\n\u001b[0;32m      9\u001b[0m \u001b[38;5;66;03m# Plotting\u001b[39;00m\n\u001b[0;32m     10\u001b[0m plt\u001b[38;5;241m.\u001b[39mplot(filtered_df[\u001b[38;5;124m'\u001b[39m\u001b[38;5;124mTime\u001b[39m\u001b[38;5;124m'\u001b[39m], filtered_df[\u001b[38;5;124m'\u001b[39m\u001b[38;5;124mValue\u001b[39m\u001b[38;5;124m'\u001b[39m], marker\u001b[38;5;241m=\u001b[39m\u001b[38;5;124m'\u001b[39m\u001b[38;5;124mo\u001b[39m\u001b[38;5;124m'\u001b[39m)\n\u001b[1;32m---> 11\u001b[0m plt\u001b[38;5;241m.\u001b[39maxhline(y\u001b[38;5;241m=\u001b[39m\u001b[43mthresholds\u001b[49m\u001b[43m[\u001b[49m\u001b[43mparameter\u001b[49m\u001b[43m]\u001b[49m\u001b[38;5;241m.\u001b[39mget(\u001b[38;5;124m'\u001b[39m\u001b[38;5;124mLow\u001b[39m\u001b[38;5;124m'\u001b[39m, \u001b[38;5;28mfloat\u001b[39m(\u001b[38;5;124m'\u001b[39m\u001b[38;5;124m-inf\u001b[39m\u001b[38;5;124m'\u001b[39m)), color\u001b[38;5;241m=\u001b[39m\u001b[38;5;124m'\u001b[39m\u001b[38;5;124mg\u001b[39m\u001b[38;5;124m'\u001b[39m, linestyle\u001b[38;5;241m=\u001b[39m\u001b[38;5;124m'\u001b[39m\u001b[38;5;124m--\u001b[39m\u001b[38;5;124m'\u001b[39m, label\u001b[38;5;241m=\u001b[39m\u001b[38;5;124m'\u001b[39m\u001b[38;5;124mLow Threshold\u001b[39m\u001b[38;5;124m'\u001b[39m)\n\u001b[0;32m     12\u001b[0m plt\u001b[38;5;241m.\u001b[39maxhline(y\u001b[38;5;241m=\u001b[39mthresholds[parameter]\u001b[38;5;241m.\u001b[39mget(\u001b[38;5;124m'\u001b[39m\u001b[38;5;124mHigh\u001b[39m\u001b[38;5;124m'\u001b[39m, \u001b[38;5;28mfloat\u001b[39m(\u001b[38;5;124m'\u001b[39m\u001b[38;5;124minf\u001b[39m\u001b[38;5;124m'\u001b[39m)), color\u001b[38;5;241m=\u001b[39m\u001b[38;5;124m'\u001b[39m\u001b[38;5;124mr\u001b[39m\u001b[38;5;124m'\u001b[39m, linestyle\u001b[38;5;241m=\u001b[39m\u001b[38;5;124m'\u001b[39m\u001b[38;5;124m--\u001b[39m\u001b[38;5;124m'\u001b[39m, label\u001b[38;5;241m=\u001b[39m\u001b[38;5;124m'\u001b[39m\u001b[38;5;124mHigh Threshold\u001b[39m\u001b[38;5;124m'\u001b[39m)\n\u001b[0;32m     13\u001b[0m plt\u001b[38;5;241m.\u001b[39mtitle(\u001b[38;5;124mf\u001b[39m\u001b[38;5;124m'\u001b[39m\u001b[38;5;124mTrend for \u001b[39m\u001b[38;5;132;01m{\u001b[39;00mcustomer_id\u001b[38;5;132;01m}\u001b[39;00m\u001b[38;5;124m - \u001b[39m\u001b[38;5;132;01m{\u001b[39;00mparameter\u001b[38;5;132;01m}\u001b[39;00m\u001b[38;5;124m'\u001b[39m)\n",
      "\u001b[1;31mKeyError\u001b[0m: 'Articulated_Truck_1'"
     ]
    },
    {
     "data": {
      "image/png": "[encoded data removed]",
      "text/plain": [
       "<Figure size 640x480 with 1 Axes>"
      ]
     },
     "metadata": {},
     "output_type": "display_data"
    }
   ],
   "source": [
    "import matplotlib.pyplot as plt\n",
    "\n",
    "# Example: Plotting for a specific parameter and customer\n",
    "parameter = \"Articulated_Truck_1\"  # Example parameter\n",
    "customer_id = '1'  # Replace with actual customer id\n",
    "\n",
    "filtered_df = df[(df['Machine'] == parameter) & (df['Id'] == customer_id)]\n",
    "\n",
    "# Plotting\n",
    "plt.plot(filtered_df['Time'], filtered_df['Value'], marker='o')\n",
    "plt.axhline(y=thresholds[parameter].get('Low', float('-inf')), color='g', linestyle='--', label='Low Threshold')\n",
    "plt.axhline(y=thresholds[parameter].get('High', float('inf')), color='r', linestyle='--', label='High Threshold')\n",
    "plt.title(f'Trend for {customer_id} - {parameter}')\n",
    "plt.xlabel('Date')\n",
    "plt.ylabel('Value')\n",
    "plt.legend()\n",
    "plt.show()\n"
   ]
  },
  {
   "cell_type": "code",
   "execution_count": 10,
   "metadata": {},
   "outputs": [
    {
     "name": "stdout",
     "output_type": "stream",
     "text": [
      "Empty DataFrame\n",
      "Columns: [Id, Time, Machine, Component, Parameter, Value, Above_Threshold, Probability]\n",
      "Index: []\n"
     ]
    }
   ],
   "source": [
    "# Example IDs - Replace these with actual values\n",
    "customer_id = '1'  # Replace with the actual customer ID\n",
    "machine_id = 'Articulated_Truck_1'    # Replace with the actual machine ID\n",
    "\n",
    "# Filter the dataframe for the specific customer and machine\n",
    "filtered_df = df[(df['Id'] == customer_id) & (df['Machine'] == machine_id)]\n",
    "\n",
    "# Display the filtered data to verify\n",
    "print(filtered_df.head())\n"
   ]
  }
 ],
 "metadata": {
  "kernelspec": {
   "display_name": "Python 3",
   "language": "python",
   "name": "python3"
  },
  "language_info": {
   "codemirror_mode": {
    "name": "ipython",
    "version": 3
   },
   "file_extension": ".py",
   "mimetype": "text/x-python",
   "name": "python",
   "nbconvert_exporter": "python",
   "pygments_lexer": "ipython3",
   "version": "3.11.1"
  }
 },
 "nbformat": 4,
 "nbformat_minor": 2
}
